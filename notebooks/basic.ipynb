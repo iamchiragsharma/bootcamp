{
 "cells": [
  {
   "cell_type": "code",
   "execution_count": 20,
   "metadata": {},
   "outputs": [
    {
     "name": "stdout",
     "output_type": "stream",
     "text": [
      "0.0\n",
      "inf\n",
      "<class 'float'>\n",
      "<class 'complex'>\n"
     ]
    }
   ],
   "source": [
    "#Numerical\n",
    "#Integers\n",
    "mera_phone_num = 9204939231\n",
    "mera_bank_balance = 1.3e-45000\n",
    "print(mera_bank_balance)\n",
    "mera_ego = 1.3e100000\n",
    "print(mera_ego)\n",
    "#Float\n",
    "precision = 3452.567\n",
    "print(type(precision))\n",
    "#Complex\n",
    "my_fate = 3+3j\n",
    "print(type(my_fate))"
   ]
  },
  {
   "cell_type": "code",
   "execution_count": 4,
   "metadata": {},
   "outputs": [
    {
     "name": "stdout",
     "output_type": "stream",
     "text": [
      "I don't work because i am daddy's pari/paraa\n",
      "<class 'str'>\n",
      "Life is hard so now i work at dominos\n",
      "<class 'str'>\n",
      "<class 'bool'>\n"
     ]
    }
   ],
   "source": [
    "#String\n",
    "work = \"I don't work because i am daddy's pari/paraa\"\n",
    "print(work)\n",
    "print(type(work))\n",
    "\n",
    "workNow = \"Life is hard so now i work at dominos\"\n",
    "print(workNow)\n",
    "print(type(workNow))\n",
    "\n",
    "#Won't work strings are immutable\n",
    "#workNow[0] = \"W\"\n",
    "#print(workNow)\n",
    "\n",
    "\n",
    "#Boolean\n",
    "# wrong form of assignment t must be capital \n",
    "# type(true)\n",
    "print(type(True))"
   ]
  },
  {
   "cell_type": "code",
   "execution_count": 14,
   "metadata": {},
   "outputs": [
    {
     "name": "stdout",
     "output_type": "stream",
     "text": [
      "True\n",
      "Engineer\n",
      "Engineerlmao\n",
      "False\n",
      "True\n",
      "True\n"
     ]
    }
   ],
   "source": [
    "job  = \"Engineer\"\n",
    "kaam = job\n",
    "print(kaam is job)\n",
    "kaam = kaam + \"lmao\"\n",
    "print(job)\n",
    "print(kaam)\n",
    "print(kaam is job)\n",
    "\n",
    "a = 3\n",
    "b = 3\n",
    "print(a is b)\n",
    "c = 3\n",
    "d = c\n",
    "print(d is c)"
   ]
  },
  {
   "cell_type": "code",
   "execution_count": null,
   "metadata": {},
   "outputs": [],
   "source": []
  }
 ],
 "metadata": {
  "kernelspec": {
   "display_name": "Python 3",
   "language": "python",
   "name": "python3"
  },
  "language_info": {
   "codemirror_mode": {
    "name": "ipython",
    "version": 3
   },
   "file_extension": ".py",
   "mimetype": "text/x-python",
   "name": "python",
   "nbconvert_exporter": "python",
   "pygments_lexer": "ipython3",
   "version": "3.6.7"
  }
 },
 "nbformat": 4,
 "nbformat_minor": 2
}
