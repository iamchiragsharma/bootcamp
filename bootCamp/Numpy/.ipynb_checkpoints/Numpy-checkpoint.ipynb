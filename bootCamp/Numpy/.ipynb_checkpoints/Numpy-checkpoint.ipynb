{
 "cells": [
  {
   "cell_type": "code",
   "execution_count": 4,
   "metadata": {},
   "outputs": [],
   "source": [
    "from IPython.core.interactiveshell import InteractiveShell\n",
    "InteractiveShell.ast_node_interactivity = \"all\""
   ]
  },
  {
   "cell_type": "code",
   "execution_count": 5,
   "metadata": {},
   "outputs": [],
   "source": [
    "import numpy as np"
   ]
  },
  {
   "cell_type": "code",
   "execution_count": 7,
   "metadata": {},
   "outputs": [
    {
     "data": {
      "text/plain": [
       "numpy.ndarray"
      ]
     },
     "execution_count": 7,
     "metadata": {},
     "output_type": "execute_result"
    },
    {
     "data": {
      "text/plain": [
       "array([0, 1, 2, 3, 4])"
      ]
     },
     "execution_count": 7,
     "metadata": {},
     "output_type": "execute_result"
    },
    {
     "data": {
      "text/plain": [
       "array([36,  1,  2,  3,  4])"
      ]
     },
     "execution_count": 7,
     "metadata": {},
     "output_type": "execute_result"
    },
    {
     "data": {
      "text/plain": [
       "array([36,  1,  2,  3,  4,  5,  6,  7,  8,  9])"
      ]
     },
     "execution_count": 7,
     "metadata": {},
     "output_type": "execute_result"
    }
   ],
   "source": [
    "fullList = np.arange(0,10)\n",
    "fullList\n",
    "halfList = fullList[:5]   #Creates a view of original array\n",
    "halfList\n",
    "halfList[0] = 36   #Changes in halfList will be retained in fullList because numpy by defualt doesn't make copies\n",
    "halfList\n",
    "fullList"
   ]
  },
  {
   "cell_type": "code",
   "execution_count": 20,
   "metadata": {},
   "outputs": [
    {
     "data": {
      "text/plain": [
       "array([0, 1, 2, 3, 4, 5, 6, 7, 8, 9])"
      ]
     },
     "execution_count": 20,
     "metadata": {},
     "output_type": "execute_result"
    },
    {
     "data": {
      "text/plain": [
       "array([0, 1, 2, 3, 4])"
      ]
     },
     "execution_count": 20,
     "metadata": {},
     "output_type": "execute_result"
    },
    {
     "data": {
      "text/plain": [
       "array([36,  1,  2,  3,  4])"
      ]
     },
     "execution_count": 20,
     "metadata": {},
     "output_type": "execute_result"
    },
    {
     "data": {
      "text/plain": [
       "array([0, 1, 2, 3, 4, 5, 6, 7, 8, 9])"
      ]
     },
     "execution_count": 20,
     "metadata": {},
     "output_type": "execute_result"
    }
   ],
   "source": [
    "#Extensive copy making of array so changes are not retained\n",
    "newList = np.arange(0,10)\n",
    "newList\n",
    "copyList = newList[:5].copy()   #delinks from original array creates a new copy.\n",
    "copyList\n",
    "copyList[0] = 36\n",
    "copyList\n",
    "newList"
   ]
  },
  {
   "cell_type": "code",
   "execution_count": 27,
   "metadata": {},
   "outputs": [
    {
     "data": {
      "text/plain": [
       "2"
      ]
     },
     "execution_count": 27,
     "metadata": {},
     "output_type": "execute_result"
    },
    {
     "data": {
      "text/plain": [
       "2"
      ]
     },
     "execution_count": 27,
     "metadata": {},
     "output_type": "execute_result"
    }
   ],
   "source": [
    "#2-D Array\n",
    "ar_2D = np.array([[1,2,3],[4,5,6],[7,8,9]])\n",
    "ar_2D[0][1]\n",
    "ar_2D[0,1]  #This won't work on normal array."
   ]
  },
  {
   "cell_type": "code",
   "execution_count": 65,
   "metadata": {},
   "outputs": [
    {
     "name": "stdout",
     "output_type": "stream",
     "text": [
      "3 5\n",
      "6 7\n",
      "[[18 21]\n",
      " [30 35]]\n",
      "53\n"
     ]
    }
   ],
   "source": [
    "A = np.array(list(input().split()))\n",
    "A_int = A.astype(int)\n",
    "B = np.array(list(input().split()))\n",
    "B_int = B.astype(int)\n",
    "print(np.outer(A_int,B_int))   #Crossed product kind shit\n",
    "print(np.inner(A_int,B_int))   #Sum of product of columns"
   ]
  },
  {
   "cell_type": "code",
   "execution_count": 6,
   "metadata": {},
   "outputs": [
    {
     "name": "stdout",
     "output_type": "stream",
     "text": [
      "2 2\n",
      "1 2\n",
      "3 4\n",
      "[1.5 3.5]\n",
      "[1. 1.]\n",
      "1.11803398875\n"
     ]
    }
   ],
   "source": [
    "ls = []\n",
    "n,m = map(int,input().split())\n",
    "for i in range(n):\n",
    "        ls.append(list(map(int,input().split())))\n",
    "np_ls = np.array(ls)\n",
    "print(np.mean(np_ls,axis=1))\n",
    "print(np.var(np_ls,axis=0))\n",
    "print(round(np.std(np_ls),11))"
   ]
  },
  {
   "cell_type": "code",
   "execution_count": null,
   "metadata": {},
   "outputs": [],
   "source": [
    "n = int(input())\n",
    "nA,nB = [],[]\n",
    "for i in range(n):\n",
    "    i1,i2 = map(int,input().split())\n",
    "    nA.append([i1,i2])\n",
    "for i in range(n):\n",
    "    i1,i2 = map(int,input().split())\n",
    "    nB.append([i1,i2])\n",
    "A = np.array(nA)\n",
    "B = np.array(nB)\n",
    "for i in range(n):\n",
    "    for j in range(n):\n",
    "        np.dot()"
   ]
  }
 ],
 "metadata": {
  "kernelspec": {
   "display_name": "Python 3",
   "language": "python",
   "name": "python3"
  },
  "language_info": {
   "codemirror_mode": {
    "name": "ipython",
    "version": 3
   },
   "file_extension": ".py",
   "mimetype": "text/x-python",
   "name": "python",
   "nbconvert_exporter": "python",
   "pygments_lexer": "ipython3",
   "version": "3.6.7"
  }
 },
 "nbformat": 4,
 "nbformat_minor": 2
}
